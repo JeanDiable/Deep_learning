{
 "cells": [
  {
   "cell_type": "code",
   "execution_count": 1,
   "metadata": {},
   "outputs": [
    {
     "name": "stdout",
     "output_type": "stream",
     "text": [
      "WARNING:tensorflow:From /Users/sammy/anaconda3/lib/python3.6/site-packages/tensorflow_core/python/compat/v2_compat.py:65: disable_resource_variables (from tensorflow.python.ops.variable_scope) is deprecated and will be removed in a future version.\n",
      "Instructions for updating:\n",
      "non-resource variables are not supported in the long term\n",
      "['data_batch_1', 'readme.html', 'batches.meta', 'data_batch_2', 'data_batch_5', 'test_batch', 'data_batch_4', 'data_batch_3']\n"
     ]
    }
   ],
   "source": [
    "import tensorflow.compat.v1 as tf\n",
    "tf.disable_v2_behavior()\n",
    "import numpy as np\n",
    "import os\n",
    "import pickle\n",
    "\n",
    "CIFAR_DIR = \"./cifar-10-batches-py\"\n",
    "print(os.listdir(CIFAR_DIR))"
   ]
  },
  {
   "cell_type": "code",
   "execution_count": 2,
   "metadata": {},
   "outputs": [
    {
     "name": "stdout",
     "output_type": "stream",
     "text": [
      "(50000, 3072)\n",
      "(50000,)\n",
      "(10000, 3072)\n",
      "(10000,)\n",
      "[[-0.97647059 -0.97647059 -0.97647059 ... -0.24705882 -0.25490196\n",
      "  -0.27058824]\n",
      " [ 0.14509804  0.24705882  0.2627451  ... -0.45098039 -0.2627451\n",
      "  -0.12941176]\n",
      " [-0.40392157 -0.38823529 -0.36470588 ... -0.16862745  0.27843137\n",
      "   0.49019608]\n",
      " ...\n",
      " [-0.56078431 -0.54509804 -0.56078431 ...  0.9372549   0.91372549\n",
      "   0.9372549 ]\n",
      " [ 0.30196078  0.28627451  0.28627451 ...  1.          1.\n",
      "   1.        ]\n",
      " [ 0.70980392  0.30980392  0.12941176 ...  0.73333333  0.74117647\n",
      "   0.74901961]]\n",
      "[1 9 3 7 2 2 7 8 0 9]\n"
     ]
    }
   ],
   "source": [
    "def load_data(filename):\n",
    "    \"\"\"load data from data file.\"\"\"\n",
    "    with open(filename,'rb') as f:\n",
    "        data = pickle.load(f,encoding = 'latin')\n",
    "        return data['data'], data['labels']\n",
    "    \n",
    "class CifarData:\n",
    "    \"\"\"定义一个类处理cifar的数据\"\"\"\n",
    "    def __init__(self, filenames, need_shuffle): #对于训练集来说需要shuffle，打乱数据以增加训练成效，对于测试集来说就不需要。\n",
    "        all_data = []\n",
    "        all_labels = []\n",
    "        for filename in filenames:\n",
    "            data,labels = load_data(filename) \n",
    "            all_data.append(data)\n",
    "            all_labels.append(labels)\n",
    "        self._data = np.vstack(all_data) #纵向组合成一个矩阵\n",
    "        self._data = self._data / 127.5 - 1   \n",
    "        self._labels = np.hstack(all_labels) #横向组合成一个矩阵\n",
    "        print(self._data.shape)\n",
    "        print(self._labels.shape)\n",
    "        self._num_examples = self._data.shape[0]\n",
    "        self._need_shuffle = need_shuffle\n",
    "        self._indicator = 0\n",
    "        if self._need_shuffle:\n",
    "            self._shuffle_data()\n",
    "                \n",
    "    def _shuffle_data(self):\n",
    "        #[0,1,2,3,4,5] ->[3,4,2,5,1.0] 在训练集上做\n",
    "        p = np.random.permutation(self._num_examples)\n",
    "        self._data = self._data[p]\n",
    "        self._labels = self._labels[p]\n",
    "        \n",
    "    def next_batch(self,batch_size):\n",
    "        \"\"\"return batch size examples as a batch\"\"\"\n",
    "        end_indicator = self._indicator + batch_size\n",
    "        if end_indicator > self._num_examples:\n",
    "            if self._need_shuffle:\n",
    "                self._shuffle_data()\n",
    "                self._indicator = 0\n",
    "                end_indicator = batch_size\n",
    "            else:\n",
    "                raise Exception(\"have no more examples\")\n",
    "        if end_indicator > self._num_examples:\n",
    "            raise Exception(\"batch size is larger than all examples\")\n",
    "        batch_data = self._data[self._indicator : end_indicator]\n",
    "        batch_labels = self._labels[self._indicator: end_indicator]\n",
    "        self._indicator = end_indicator\n",
    "        return batch_data , batch_labels\n",
    "\n",
    "    \n",
    "    '''至此处理完了cifar数据'''\n",
    "\n",
    "\n",
    "train_filemnames = [os.path.join(CIFAR_DIR,'data_batch_%d' % i) for i in range(1,6)]\n",
    "test_data_filenames = [os.path.join(CIFAR_DIR, 'test_batch')]\n",
    "\n",
    "train_data = CifarData(train_filemnames,True)\n",
    "test_data = CifarData(test_data_filenames,False)\n",
    "\n",
    "batch_data, batch_labels = train_data.next_batch(10)\n",
    "print(batch_data)\n",
    "print(batch_labels)"
   ]
  },
  {
   "cell_type": "code",
   "execution_count": 4,
   "metadata": {},
   "outputs": [
    {
     "name": "stdout",
     "output_type": "stream",
     "text": [
      "WARNING:tensorflow:From <ipython-input-4-784324612a94>:69: flatten (from tensorflow.python.layers.core) is deprecated and will be removed in a future version.\n",
      "Instructions for updating:\n",
      "Use keras.layers.flatten instead.\n",
      "WARNING:tensorflow:From <ipython-input-4-784324612a94>:70: dense (from tensorflow.python.layers.core) is deprecated and will be removed in a future version.\n",
      "Instructions for updating:\n",
      "Use keras.layers.Dense instead.\n"
     ]
    }
   ],
   "source": [
    "\"\"\"在tensorflow里，要先把图搭建起来，再往里面填数据。\"\"\"\n",
    "\n",
    "#把残差连接块提取出来做成一个函数\n",
    "def \n",
    "tf.reset_default_graph()\n",
    "x = tf.placeholder(tf.float32, [None,3072])  \n",
    "y = tf.placeholder(tf.int64, [None])  \n",
    "\n",
    "x_image = tf.reshape(x, [-1, 3, 32, 32])\n",
    "#size 32*32\n",
    "x_image = tf.transpose(x_image, perm = [0, 2, 3, 1])  #perm是交换的顺序\n",
    "\n",
    "\n",
    "\n",
    "y_ = tf.layers.dense(flatten,10)\n",
    "\n",
    "loss = tf.losses.sparse_softmax_cross_entropy(labels = y, logits = y_)\n",
    "#y_ ->softmax\n",
    "#y ->one_hot\n",
    "#loss = ylogy_\n",
    "\n",
    "\n",
    "\"\"\"我们还对准确率感兴趣，所以现在来计算准确率\"\"\"\n",
    "#indice\n",
    "predict = tf.argmax(y_,1)   #取每一行中最大的数\n",
    "\n",
    "#[1,0,1,1,1,0,1]类似的\n",
    "correct_prediction = tf.equal(predict,y) \n",
    "\n",
    "accuracy = tf.reduce_mean(tf.cast(correct_prediction,tf.float64)) #准确率就是我们上面所说的这个值的平均值\n",
    "\n",
    "'''定义一个梯度下降的方法'''\n",
    "with tf.name_scope('train_op'):\n",
    "    train_op = tf.train.AdamOptimizer(1e-3).minimize(loss) \n",
    "    #AdamOptimizer是梯度下降的一个变种，1e-3是一个初始化的generate，并且我们优化的是loss值\n"
   ]
  },
  {
   "cell_type": "code",
   "execution_count": 5,
   "metadata": {},
   "outputs": [
    {
     "name": "stdout",
     "output_type": "stream",
     "text": [
      "[Train] Step: 500, loss:1.80729, acc:0.20000\n",
      "[Train] Step: 1000, loss:1.53160, acc:0.45000\n"
     ]
    }
   ],
   "source": [
    "init = tf.global_variables_initializer() \n",
    "# 构建一个初始化函数，用于初始化数据\n",
    "batch_size = 20\n",
    "train_steps = 1000\n",
    "test_steps = 100\n",
    "'''构建一个session，用于执行计算图'''\n",
    "with tf.Session() as sess:\n",
    "    sess.run(init)\n",
    "    for i in range(train_steps):\n",
    "        batch_data, batch_labels = train_data.next_batch(batch_size)\n",
    "        loss_val, acc_val, _ = sess.run(\n",
    "            [loss, accuracy, train_op],\n",
    "            feed_dict={\n",
    "                x: batch_data,\n",
    "                y: batch_labels})\n",
    "        if (i+1) % 500 == 0:\n",
    "            print('[Train] Step: %d, loss:%4.5f, acc:%4.5f'\\\n",
    "                 %(i+1,loss_val,acc_val))\n",
    "        if (i+1) % 5000 == 0:\n",
    "            test_data = CifarData(test_data_filenames, False)\n",
    "            all_test_acc_val =[]\n",
    "            for j in range(test_steps):\n",
    "                test_batch_data, test_batch_labels = test_data.next_batch(batch_size)\n",
    "                test_acc_val = sess.run([accuracy],feed_dict = {x:test_batch_data,y:test_batch_labels})\n",
    "                all_test_acc_val.append(test_acc_val)\n",
    "            test_acc = np.mean(all_test_acc_val)\n",
    "            print('[Test] Steps: %d, acc:%4.5f' %(i+1, test_acc))\n",
    "#通过调用session的run函数执行计算图。可以计算loss, accuracy, train_op。加了train_op就是在训练，没加就只是在测试。\n",
    "#feed_dict是我们输入的数据，x是cifar10的图片数据，y是label数据\n"
   ]
  },
  {
   "cell_type": "code",
   "execution_count": null,
   "metadata": {},
   "outputs": [],
   "source": []
  },
  {
   "cell_type": "code",
   "execution_count": null,
   "metadata": {},
   "outputs": [],
   "source": []
  },
  {
   "cell_type": "code",
   "execution_count": null,
   "metadata": {},
   "outputs": [],
   "source": []
  },
  {
   "cell_type": "code",
   "execution_count": null,
   "metadata": {},
   "outputs": [],
   "source": []
  },
  {
   "cell_type": "code",
   "execution_count": null,
   "metadata": {},
   "outputs": [],
   "source": []
  },
  {
   "cell_type": "code",
   "execution_count": null,
   "metadata": {},
   "outputs": [],
   "source": []
  }
 ],
 "metadata": {
  "kernelspec": {
   "display_name": "Python 3",
   "language": "python",
   "name": "python3"
  },
  "language_info": {
   "codemirror_mode": {
    "name": "ipython",
    "version": 3
   },
   "file_extension": ".py",
   "mimetype": "text/x-python",
   "name": "python",
   "nbconvert_exporter": "python",
   "pygments_lexer": "ipython3",
   "version": "3.6.8"
  }
 },
 "nbformat": 4,
 "nbformat_minor": 2
}
